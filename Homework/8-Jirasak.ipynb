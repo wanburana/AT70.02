{
  "nbformat": 4,
  "nbformat_minor": 0,
  "metadata": {
    "colab": {
      "name": "Binary Search Tree.ipynb",
      "provenance": [],
      "collapsed_sections": []
    },
    "kernelspec": {
      "name": "python3",
      "display_name": "Python 3"
    },
    "language_info": {
      "name": "python"
    }
  },
  "cells": [
    {
      "cell_type": "code",
      "metadata": {
        "id": "xZOA8rWrYl_c"
      },
      "source": [
        "class Node:\n",
        "    def __init__(self, val):\n",
        "        self.l = None\n",
        "        self.r = None\n",
        "        self.v = val\n",
        "\n",
        "class Tree:\n",
        "    def __init__(self):\n",
        "        self.root = None\n",
        "\n",
        "    def getRoot(self):\n",
        "        return self.root\n",
        "\n",
        "    def add(self, val):\n",
        "        if self.root is None:\n",
        "            self.root = Node(val)\n",
        "        else:\n",
        "            self._add(val, self.root)\n",
        "\n",
        "    def _add(self, val, node):\n",
        "        if val < node.v:\n",
        "            if node.l is not None:\n",
        "                self._add(val, node.l)\n",
        "            else:\n",
        "                node.l = Node(val)\n",
        "        else:\n",
        "            if node.r is not None:\n",
        "                self._add(val, node.r)\n",
        "            else:\n",
        "                node.r = Node(val)\n",
        "\n",
        "    def find(self, val):\n",
        "        if self.root is not None:\n",
        "            return self._find(val, self.root)\n",
        "        else:\n",
        "            return None\n",
        "    \n",
        "    def _find(self, val, node):\n",
        "        if val == node.v:\n",
        "            return node\n",
        "        elif (val < node.v and node.l is not None):\n",
        "            return self._find(val, node.l)\n",
        "        elif (val > node.v and node.r is not None):\n",
        "            return self._find(val, node.r)\n",
        "    \n",
        "    def deleteTree(self):\n",
        "        self.root = None\n",
        "    \n",
        "    def printTree(self):\n",
        "        if self.root is not None:\n",
        "            return self._printTree(self.root)\n",
        "\n",
        "    def _printTree(self, node):\n",
        "        if node is not None:\n",
        "            self._printTree(node.l)\n",
        "            print(str(node.v) + ' ')\n",
        "            self._printTree(node.r)\n",
        "\n",
        "    def printSuccessor(self, val):\n",
        "        node = self.find(val)\n",
        "        if node is None:\n",
        "            print(f'{val} not found.')\n",
        "            return None\n",
        "        else:\n",
        "            self._printTree(node)\n",
        "\n",
        "    def findMax(self):\n",
        "        return self._findMax(self.root)\n",
        "\n",
        "    def _findMax(self, node):\n",
        "        if node.r is None:\n",
        "            return node\n",
        "        return self._findMax(node.r)\n",
        "\n",
        "    def findMin(self):\n",
        "        return self._findMin(self.root)\n",
        "\n",
        "    def _findMin(self, node):\n",
        "        if node.l is None:\n",
        "            return node\n",
        "        return self._findMin(node.l)\n"
      ],
      "execution_count": 1,
      "outputs": []
    },
    {
      "cell_type": "code",
      "metadata": {
        "colab": {
          "base_uri": "https://localhost:8080/"
        },
        "id": "ZhMNVKCxbfet",
        "outputId": "7904bf65-f61d-410c-c693-e8ede6b89d15"
      },
      "source": [
        "tree = Tree()\n",
        "tree.add(3)\n",
        "tree.add(4)\n",
        "tree.add(0)\n",
        "tree.add(8)\n",
        "tree.add(2)\n",
        "tree.printTree()"
      ],
      "execution_count": 3,
      "outputs": [
        {
          "output_type": "stream",
          "name": "stdout",
          "text": [
            "0 \n",
            "2 \n",
            "3 \n",
            "4 \n",
            "8 \n"
          ]
        }
      ]
    },
    {
      "cell_type": "code",
      "metadata": {
        "id": "T28w6YFwclkU",
        "colab": {
          "base_uri": "https://localhost:8080/"
        },
        "outputId": "26b54366-e0a5-4939-b08b-b71fd822368d"
      },
      "source": [
        "tree.printSuccessor(0)"
      ],
      "execution_count": 4,
      "outputs": [
        {
          "output_type": "stream",
          "name": "stdout",
          "text": [
            "0 \n",
            "2 \n"
          ]
        }
      ]
    },
    {
      "cell_type": "code",
      "metadata": {
        "id": "7ErmPrrWa_O1"
      },
      "source": [
        ""
      ],
      "execution_count": null,
      "outputs": []
    }
  ]
}