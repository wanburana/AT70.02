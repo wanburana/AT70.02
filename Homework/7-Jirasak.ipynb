{
  "nbformat": 4,
  "nbformat_minor": 0,
  "metadata": {
    "colab": {
      "name": "Stack and Queue.ipynb",
      "provenance": [],
      "collapsed_sections": []
    },
    "kernelspec": {
      "display_name": "Python 3",
      "name": "python3"
    }
  },
  "cells": [
    {
      "cell_type": "code",
      "metadata": {
        "id": "a41HK4uMpcbS"
      },
      "source": [
        "parens_mapping = {\n",
        "    '}':'{',\n",
        "    ']':'[',\n",
        "    ')':'(',\n",
        "}\n",
        "\n",
        "test_cases = [['{[[]]{()}} ', True],\n",
        "              ['[{} ', False],\n",
        "              ['(){}[]', True],\n",
        "              ['[(])', False],\n",
        "              ['([{}])', True]\n",
        "              ]"
      ],
      "execution_count": 3,
      "outputs": []
    },
    {
      "cell_type": "code",
      "metadata": {
        "id": "CX40-2EDzjN_"
      },
      "source": [
        "def validate_function(function, test_cases):\n",
        "\n",
        "    for test_case, expected_answer in test_cases:\n",
        "        print('Current Test Case:', test_case)\n",
        "        my_answer = function(test_case)\n",
        "        print('Is valid parenthesis?: ', my_answer)\n",
        "        print('Test Result: ', 'PASS' if my_answer == expected_answer else 'FAIL')\n",
        "        print()"
      ],
      "execution_count": 4,
      "outputs": []
    },
    {
      "cell_type": "markdown",
      "metadata": {
        "id": "oDWs_1QkJcyz"
      },
      "source": [
        "# Stack"
      ]
    },
    {
      "cell_type": "code",
      "metadata": {
        "id": "7Syskx-fF3nJ"
      },
      "source": [
        "class Stack:\n",
        "    def __init__(self, items=None):\n",
        "        if items is None:\n",
        "            self.items = []\n",
        "            self.top_index = -1\n",
        "        else:\n",
        "            self.items = items\n",
        "            self.top_index = len(self.items) - 1\n",
        "    \n",
        "    def is_empty(self):\n",
        "        return not bool(self.items)\n",
        "    \n",
        "    def push(self, item):\n",
        "        self.items += [item]\n",
        "        self.top_index += 1\n",
        "\n",
        "    def pop(self):\n",
        "        popped_item = self.items[self.top_index]\n",
        "        self.top_index -= 1\n",
        "        self.items = self.items[:self.top_index+1]\n",
        "        return popped_item\n",
        "\n",
        "    def __str__(self):\n",
        "        return str(self.items)\n",
        "    \n",
        "    def __repr__(self):\n",
        "        return str(self.items)"
      ],
      "execution_count": 5,
      "outputs": []
    },
    {
      "cell_type": "code",
      "metadata": {
        "id": "0n8Ac4_Lpg4Z"
      },
      "source": [
        "def valid_paren_stack(test_case):\n",
        "    test_case = test_case.strip()\n",
        "    test_case = [c for c in test_case]\n",
        "\n",
        "    is_correct = True\n",
        "    stack = Stack()\n",
        "    for item in test_case:\n",
        "        if item in parens_mapping.values():\n",
        "            stack.push(item)\n",
        "        else:\n",
        "            left_paren = stack.pop()\n",
        "            if left_paren != parens_mapping[item]:\n",
        "                is_correct = False\n",
        "\n",
        "                return is_correct\n",
        "    \n",
        "    return is_correct and stack.is_empty()"
      ],
      "execution_count": 6,
      "outputs": []
    },
    {
      "cell_type": "markdown",
      "metadata": {
        "id": "QDfcwBvuJnee"
      },
      "source": [
        "# Queue"
      ]
    },
    {
      "cell_type": "code",
      "metadata": {
        "id": "iOhoYZBiJoek"
      },
      "source": [
        "class Queue:\n",
        "    def __init__(self, capacity, verbose=False):\n",
        "        self.front = self.size = 0\n",
        "        self.rear = capacity - 1\n",
        "        self.queue = [None] * capacity\n",
        "        self.capacity = capacity\n",
        "        self.verbose = verbose\n",
        "    def is_full(self):\n",
        "        return self.size == self.capacity\n",
        "    \n",
        "    def is_empty(self):\n",
        "        return self.size == 0\n",
        "\n",
        "    def enqueue(self, item):\n",
        "        if self.is_full():\n",
        "            print('Full')\n",
        "            return\n",
        "        self.rear = (self.rear + 1) % self.capacity\n",
        "        self.queue[self.rear] = item\n",
        "        self.size += 1\n",
        "        if self.verbose:\n",
        "            print(f'Enqueue {item!r}')\n",
        "            print(str(self.queue))\n",
        "\n",
        "    def dequeue(self):\n",
        "        if self.is_empty():\n",
        "            print('Empty')\n",
        "            return\n",
        "        dequeued_item = self.queue[self.front]\n",
        "        self.queue[self.front] = None\n",
        "        self.front = (self.front + 1) % self.capacity\n",
        "        self.size -= 1\n",
        "\n",
        "        if self.verbose:\n",
        "            print(f'Dequeue {dequeued_item!r}')\n",
        "            print(str(self.queue))\n",
        "        return dequeued_item\n",
        "\n",
        "    def __str__(self):\n",
        "        return str(self.queue)\n",
        "    \n",
        "    def __repr__(self):\n",
        "        return str(self.queue)"
      ],
      "execution_count": 7,
      "outputs": []
    },
    {
      "cell_type": "code",
      "metadata": {
        "id": "hCtD8o8jE-Xh"
      },
      "source": [
        "def valid_paren_queue(test_case):\n",
        "    test_case = test_case.strip()\n",
        "    test_case = [c for c in test_case]\n",
        "\n",
        "\n",
        "    queue = Queue(capacity=len(test_case))\n",
        "\n",
        "    is_correct = True\n",
        "    for item in test_case:\n",
        "        # rearrange the queue, so that the first item to dequeue is the last enqueued item\n",
        "        if item in parens_mapping.values():\n",
        "            # print(f'CURRENT ITEM {item!r}')\n",
        "            queue.enqueue(item)\n",
        "            relocate_time = queue.size - 1\n",
        "            for _ in range(relocate_time):\n",
        "                most_front = queue.dequeue()\n",
        "                queue.enqueue(most_front)\n",
        "            \n",
        "        if item in parens_mapping.keys():\n",
        "            left_paren = queue.dequeue()\n",
        "            if left_paren != parens_mapping[item]:\n",
        "                is_correct = False\n",
        "                return is_correct\n",
        "    return is_correct and queue.is_empty()"
      ],
      "execution_count": 8,
      "outputs": []
    },
    {
      "cell_type": "code",
      "metadata": {
        "colab": {
          "base_uri": "https://localhost:8080/"
        },
        "id": "TFDpO_c91klI",
        "outputId": "9dd5cb05-8571-4f38-fc95-dee9f3e99e4a"
      },
      "source": [
        "validate_function(valid_paren_stack, test_cases)"
      ],
      "execution_count": 9,
      "outputs": [
        {
          "output_type": "stream",
          "name": "stdout",
          "text": [
            "Current Test Case: {[[]]{()}} \n",
            "Is valid parenthesis?:  True\n",
            "Test Result:  PASS\n",
            "\n",
            "Current Test Case: [{} \n",
            "Is valid parenthesis?:  False\n",
            "Test Result:  PASS\n",
            "\n",
            "Current Test Case: (){}[]\n",
            "Is valid parenthesis?:  True\n",
            "Test Result:  PASS\n",
            "\n",
            "Current Test Case: [(])\n",
            "Is valid parenthesis?:  False\n",
            "Test Result:  PASS\n",
            "\n",
            "Current Test Case: ([{}])\n",
            "Is valid parenthesis?:  True\n",
            "Test Result:  PASS\n",
            "\n"
          ]
        }
      ]
    },
    {
      "cell_type": "code",
      "metadata": {
        "colab": {
          "base_uri": "https://localhost:8080/"
        },
        "id": "1IDnikI-z38l",
        "outputId": "16cdf06e-6645-4f7d-dc97-6958c5f3d78c"
      },
      "source": [
        "validate_function(valid_paren_queue, test_cases)"
      ],
      "execution_count": 10,
      "outputs": [
        {
          "output_type": "stream",
          "name": "stdout",
          "text": [
            "Current Test Case: {[[]]{()}} \n",
            "Is valid parenthesis?:  True\n",
            "Test Result:  PASS\n",
            "\n",
            "Current Test Case: [{} \n",
            "Is valid parenthesis?:  False\n",
            "Test Result:  PASS\n",
            "\n",
            "Current Test Case: (){}[]\n",
            "Is valid parenthesis?:  True\n",
            "Test Result:  PASS\n",
            "\n",
            "Current Test Case: [(])\n",
            "Is valid parenthesis?:  False\n",
            "Test Result:  PASS\n",
            "\n",
            "Current Test Case: ([{}])\n",
            "Is valid parenthesis?:  True\n",
            "Test Result:  PASS\n",
            "\n"
          ]
        }
      ]
    },
    {
      "cell_type": "code",
      "metadata": {
        "id": "ubb0V1TpZHXz"
      },
      "source": [
        ""
      ],
      "execution_count": null,
      "outputs": []
    }
  ]
}