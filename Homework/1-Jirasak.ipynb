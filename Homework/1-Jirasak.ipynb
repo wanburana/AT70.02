{
 "cells": [
  {
   "cell_type": "markdown",
   "metadata": {
    "id": "8v2O7zzuah0y"
   },
   "source": [
    "# Insertionsort"
   ]
  },
  {
   "cell_type": "code",
   "execution_count": 8,
   "metadata": {
    "id": "LbWp5m5DbCjV"
   },
   "outputs": [],
   "source": [
    "def insertion_sort(A):\n",
    "\n",
    "    # loop through array A start from 2nd index\n",
    "    for i in range(1, len(A)):\n",
    "        \n",
    "        key = A[i]\n",
    "        j = i - 1\n",
    "        \n",
    "        # check until found any element value less than key or no element left\n",
    "        while (j >= 0 and key < A[j]):\n",
    "            A[j + 1] = A[j]\n",
    "            j -= 1\n",
    "        A[j + 1] = key # assign the key to the last shifted value "
   ]
  },
  {
   "cell_type": "code",
   "execution_count": 9,
   "metadata": {
    "colab": {
     "base_uri": "https://localhost:8080/"
    },
    "id": "XCr1RbSYahWk",
    "outputId": "dd32c423-0064-42b0-cdee-37aaf17e2e3a"
   },
   "outputs": [
    {
     "name": "stdout",
     "output_type": "stream",
     "text": [
      "Unsorted array: [6252, 4684, 1731, 4742, 4521, 6340, 576, 5202, 6363, 439, 2750, 7487, 5272, 5653, 3999, 6033, 582, 9930, 7051, 8158]\n",
      "Sorted array: [0, 1, 2, 3, 4, 5, 6, 7, 8, 9, 10, 11, 12, 13, 14, 15, 16, 17, 18, 19]\n",
      "Wall time: 11.2 s\n"
     ]
    }
   ],
   "source": [
    "%%time\n",
    "\n",
    "import numpy as np\n",
    "np.random.seed(42)\n",
    "sample_array = list(np.arange(10000))\n",
    "np.random.shuffle(sample_array)\n",
    "print('Unsorted array:', sample_array[:20])\n",
    "insertion_sort(sample_array)\n",
    "print('Sorted array:', sample_array[:20])"
   ]
  },
  {
   "cell_type": "markdown",
   "metadata": {
    "id": "jPgn9-zxaY-3"
   },
   "source": [
    "# Mergesort"
   ]
  },
  {
   "cell_type": "code",
   "execution_count": 10,
   "metadata": {
    "id": "Yw0ECmkO8yY-"
   },
   "outputs": [],
   "source": [
    "def merge_sort(A):\n",
    "    if len(A) > 1: # if the element is still dividable (length > 1)\n",
    "        mid_point = len(A) // 2\n",
    "\n",
    "        L = A[:mid_point]\n",
    "        R = A[mid_point:]\n",
    "        \n",
    "\n",
    "        merge_sort(L) \n",
    "        merge_sort(R)\n",
    "        merge(L, R, A)\n",
    "\n",
    "def merge(L, R, A):\n",
    "    len_L = len(L)\n",
    "    len_R = len(R)\n",
    "\n",
    "    i = 0 # index for left array L\n",
    "    j = 0 # index for right array R\n",
    "    k = 0 # index for main array A\n",
    "\n",
    "    # replace element in main array A with smaller value from either L or R\n",
    "    while (i < len_L and j < len_R):\n",
    "        if L[i] < R[j]:\n",
    "            A[k] = L[i]\n",
    "            i+=1\n",
    "        else:\n",
    "            A[k] = R[j]\n",
    "            j+=1\n",
    "        k+=1\n",
    "\n",
    "    # replace the rest of main array A with the remianing element from either L or R\n",
    "    while i < len_L:\n",
    "        A[k] = L[i]\n",
    "        i+=1\n",
    "        k+=1\n",
    "    while j < len_R:\n",
    "        A[k] = R[j]\n",
    "        j+=1\n",
    "        k+=1\n",
    "\n"
   ]
  },
  {
   "cell_type": "code",
   "execution_count": 11,
   "metadata": {
    "colab": {
     "base_uri": "https://localhost:8080/"
    },
    "id": "QSMmkiDGRCNZ",
    "outputId": "0b16540c-3f05-495a-b0d2-17b5f4e6b56a"
   },
   "outputs": [
    {
     "name": "stdout",
     "output_type": "stream",
     "text": [
      "Unsorted array: [6252, 4684, 1731, 4742, 4521, 6340, 576, 5202, 6363, 439, 2750, 7487, 5272, 5653, 3999, 6033, 582, 9930, 7051, 8158]\n",
      "Sorted array: [0, 1, 2, 3, 4, 5, 6, 7, 8, 9, 10, 11, 12, 13, 14, 15, 16, 17, 18, 19]\n",
      "Wall time: 89.6 ms\n"
     ]
    }
   ],
   "source": [
    "%%time\n",
    "\n",
    "import numpy as np\n",
    "np.random.seed(42)\n",
    "sample_array = list(np.arange(10000))\n",
    "np.random.shuffle(sample_array)\n",
    "print('Unsorted array:', sample_array[:20])\n",
    "merge_sort(sample_array)\n",
    "print('Sorted array:', sample_array[:20])"
   ]
  },
  {
   "cell_type": "code",
   "execution_count": null,
   "metadata": {
    "id": "eGSqBEGyafj8"
   },
   "outputs": [],
   "source": []
  }
 ],
 "metadata": {
  "colab": {
   "collapsed_sections": [],
   "name": "playground.ipynb",
   "provenance": []
  },
  "kernelspec": {
   "display_name": "Python 3",
   "language": "python",
   "name": "python3"
  },
  "language_info": {
   "codemirror_mode": {
    "name": "ipython",
    "version": 3
   },
   "file_extension": ".py",
   "mimetype": "text/x-python",
   "name": "python",
   "nbconvert_exporter": "python",
   "pygments_lexer": "ipython3",
   "version": "3.8.5"
  }
 },
 "nbformat": 4,
 "nbformat_minor": 4
}
