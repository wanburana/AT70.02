{
  "nbformat": 4,
  "nbformat_minor": 0,
  "metadata": {
    "colab": {
      "name": "heapsort & quicksort.ipynb",
      "provenance": [],
      "collapsed_sections": []
    },
    "kernelspec": {
      "name": "python3",
      "display_name": "Python 3"
    }
  },
  "cells": [
    {
      "cell_type": "markdown",
      "metadata": {
        "id": "bSpAYZsZtbUf"
      },
      "source": [
        "# Heap Sort"
      ]
    },
    {
      "cell_type": "code",
      "metadata": {
        "id": "7Syskx-fF3nJ"
      },
      "source": [
        "def heapify(arr, n, i):\n",
        "    largest = i\n",
        "    left = 2*i + 1\n",
        "    right = 2*i + 2\n",
        "\n",
        "    if left < n and arr[largest] < arr[left]:\n",
        "        largest = left\n",
        "    if right < n and arr[largest] < arr[right]:\n",
        "        largest = right\n",
        "    if largest != i:\n",
        "        arr[largest], arr[i] = arr[i], arr[largest]\n",
        "\n",
        "        heapify(arr, n, largest)\n",
        "\n",
        "\n",
        "def heapsort(arr):\n",
        "    \n",
        "    n = len(arr)\n",
        "\n",
        "    for i in range(n//2 -1, -1, -1):\n",
        "        heapify(arr, n, i)\n",
        "    \n",
        "    for i in range(n-1, 0, -1):\n",
        "        arr[i], arr[0] = arr[0], arr[i]\n",
        "        heapify(arr, i, 0)\n"
      ],
      "execution_count": 41,
      "outputs": []
    },
    {
      "cell_type": "markdown",
      "metadata": {
        "id": "d0C4Wu7utiJ1"
      },
      "source": [
        "# Quick Sort"
      ]
    },
    {
      "cell_type": "code",
      "metadata": {
        "id": "dcLRi67B0K3m"
      },
      "source": [
        "def partition(arr, low, high):\n",
        "    pivot = arr[high]\n",
        "\n",
        "    i = low - 1\n",
        "\n",
        "    for j in range(low, high):\n",
        "        if arr[j] < pivot:\n",
        "\n",
        "            i+=1\n",
        "            arr[i], arr[j] = arr[j], arr[i]\n",
        "    \n",
        "    arr[i+1], arr[high] = arr[high], arr[i+1]\n",
        "\n",
        "    return i + 1\n",
        "\n",
        "def quicksort(arr, low, high):\n",
        "    if low < high:\n",
        "        pi = partition(arr, low, high)\n",
        "        quicksort(arr, low, pi - 1)\n",
        "        quicksort(arr, pi + 1, high)\n",
        "        "
      ],
      "execution_count": 42,
      "outputs": []
    },
    {
      "cell_type": "code",
      "metadata": {
        "colab": {
          "base_uri": "https://localhost:8080/"
        },
        "id": "664Gu1K3s-GB",
        "outputId": "7aba8625-e722-446b-c6fe-4c4077dfc49c"
      },
      "source": [
        "# heap sort\n",
        "import numpy as np\n",
        "np.random.seed(42)\n",
        "\n",
        "arr = list(np.arange(10000))\n",
        "np.random.shuffle(arr)\n",
        "\n",
        "heapsort(arr)\n",
        "print(arr[:10])"
      ],
      "execution_count": 43,
      "outputs": [
        {
          "output_type": "stream",
          "name": "stdout",
          "text": [
            "[0, 1, 2, 3, 4, 5, 6, 7, 8, 9]\n"
          ]
        }
      ]
    },
    {
      "cell_type": "code",
      "metadata": {
        "colab": {
          "base_uri": "https://localhost:8080/"
        },
        "id": "wefZ3jJquKrp",
        "outputId": "f23b4349-99e4-4f96-f090-f4240ff94ec3"
      },
      "source": [
        "# quicksort\n",
        "import numpy as np\n",
        "np.random.seed(42)\n",
        "\n",
        "arr = list(np.arange(10000))\n",
        "np.random.shuffle(arr)\n",
        "\n",
        "low = 0\n",
        "high = len(arr) - 1\n",
        "quicksort(arr, low, high)\n",
        "print(arr[:10])"
      ],
      "execution_count": 44,
      "outputs": [
        {
          "output_type": "stream",
          "name": "stdout",
          "text": [
            "[0, 1, 2, 3, 4, 5, 6, 7, 8, 9]\n"
          ]
        }
      ]
    },
    {
      "cell_type": "code",
      "metadata": {
        "id": "QZK6q9RVvDsb"
      },
      "source": [
        "# comparison\n",
        "import time\n",
        "\n",
        "arr_length = [10,100,1_000,10_000,100_000, 1_000_000]\n",
        "heapsort_time_taken = []\n",
        "quicksort_time_taken = []\n",
        "\n",
        "\n",
        "for length in arr_length:\n",
        "    # heapsort\n",
        "    np.random.seed(42)\n",
        "    arr = list(np.arange(length))\n",
        "    np.random.shuffle(arr)\n",
        "    \n",
        "    start = time.time()\n",
        "    heapsort(arr)\n",
        "    end = time.time()\n",
        "\n",
        "    time_taken = end - start\n",
        "    heapsort_time_taken.append(time_taken)\n",
        "\n",
        "    # quicksort\n",
        "    np.random.seed(42)\n",
        "    arr = list(np.arange(length))\n",
        "    low = 0\n",
        "    high = len(arr) - 1\n",
        "    np.random.shuffle(arr)\n",
        "    \n",
        "    start = time.time()\n",
        "    quicksort(arr, low, high)\n",
        "    end = time.time()\n",
        "\n",
        "    time_taken = end - start\n",
        "    quicksort_time_taken.append(time_taken)\n"
      ],
      "execution_count": 47,
      "outputs": []
    },
    {
      "cell_type": "code",
      "metadata": {
        "id": "gVaEzp8Hy4es"
      },
      "source": [
        "import matplotlib.pyplot as plt"
      ],
      "execution_count": 50,
      "outputs": []
    },
    {
      "cell_type": "code",
      "metadata": {
        "colab": {
          "base_uri": "https://localhost:8080/",
          "height": 297
        },
        "id": "dGNOBfFZzJcu",
        "outputId": "2a6fba59-d272-408a-efca-dd091c25b83e"
      },
      "source": [
        "plt.plot(heapsort_time_taken, label='heapsort')\n",
        "plt.plot(quicksort_time_taken, label='quicksort')\n",
        "plt.xticks(ticks=range(len(arr_length)), labels=arr_length)\n",
        "plt.xlabel('Number of element')\n",
        "plt.ylabel('Time taken (s)')\n",
        "\n",
        "plt.legend()\n",
        "\n",
        "# it can be seen that quicksort took less time eventhough both sorting algorithms\n",
        "# belong to the same family of O(n log n)"
      ],
      "execution_count": 71,
      "outputs": [
        {
          "output_type": "execute_result",
          "data": {
            "text/plain": [
              "<matplotlib.legend.Legend at 0x7f426a2d9cd0>"
            ]
          },
          "metadata": {},
          "execution_count": 71
        },
        {
          "output_type": "display_data",
          "data": {
            "image/png": "[encoded data removed]",
            "text/plain": [
              "<Figure size 432x288 with 1 Axes>"
            ]
          },
          "metadata": {
            "needs_background": "light"
          }
        }
      ]
    },
    {
      "cell_type": "code",
      "metadata": {
        "id": "-BfYKqxT2yZ1"
      },
      "source": [
        ""
      ],
      "execution_count": null,
      "outputs": []
    }
  ]
}