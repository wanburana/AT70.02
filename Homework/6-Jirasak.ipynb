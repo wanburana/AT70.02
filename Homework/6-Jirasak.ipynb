{
  "nbformat": 4,
  "nbformat_minor": 0,
  "metadata": {
    "colab": {
      "name": "radix_sort & bucket_sort.ipynb",
      "provenance": [],
      "collapsed_sections": []
    },
    "kernelspec": {
      "display_name": "Python 3",
      "name": "python3"
    }
  },
  "cells": [
    {
      "cell_type": "code",
      "metadata": {
        "id": "KJru4TjDnjJ4"
      },
      "source": [
        "import numpy as np\n",
        "import random"
      ],
      "execution_count": 1,
      "outputs": []
    },
    {
      "cell_type": "code",
      "metadata": {
        "id": "dQVv6Xo_5MP7"
      },
      "source": [
        "def counting_sort(arr, n_exponent):\n",
        "    output = [0] * len(arr)\n",
        "    count = [0] * 10\n",
        "\n",
        "    for i in range(len(arr)):\n",
        "        index = (arr[i] // n_exponent) % 10\n",
        "        count[index] +=1\n",
        "\n",
        "    for i in range(1, len(count)):\n",
        "        count[i] += count[i - 1]\n",
        "\n",
        "    for i in range(len(arr) - 1, -1, -1):\n",
        "        index = (arr[i] // n_exponent) % 10\n",
        "        output[count[index] - 1] = arr[i]\n",
        "        count[index] -= 1\n",
        "\n",
        "    for i in range(len(arr)):\n",
        "        arr[i] = output[i]\n",
        "\n",
        "def radix_sort(arr):\n",
        "\n",
        "    max_num = -np.inf\n",
        "    for i in range(len(arr)):\n",
        "        if arr[i] > max_num:\n",
        "            max_num = arr[i]\n",
        "    \n",
        "    n_exponent = 1\n",
        "    while max_num / n_exponent > 0:\n",
        "        counting_sort(arr, n_exponent)\n",
        "        n_exponent *= 10\n",
        "    \n"
      ],
      "execution_count": 2,
      "outputs": []
    },
    {
      "cell_type": "code",
      "metadata": {
        "id": "2rUdp3Se-ecn",
        "colab": {
          "base_uri": "https://localhost:8080/"
        },
        "outputId": "f554c520-90d2-4745-e9c9-05cdb9196dfe"
      },
      "source": [
        "arr = list(range(1,20))\n",
        "random.shuffle(arr)\n",
        "print('Before:', arr)\n",
        "radix_sort(arr)\n",
        "print('After:', arr)"
      ],
      "execution_count": 3,
      "outputs": [
        {
          "output_type": "stream",
          "name": "stdout",
          "text": [
            "Before: [19, 4, 14, 3, 15, 11, 10, 18, 16, 7, 5, 13, 6, 9, 12, 1, 17, 8, 2]\n",
            "After: [1, 2, 3, 4, 5, 6, 7, 8, 9, 10, 11, 12, 13, 14, 15, 16, 17, 18, 19]\n"
          ]
        }
      ]
    },
    {
      "cell_type": "code",
      "metadata": {
        "id": "aF2BFioNMW81"
      },
      "source": [
        "def insertion_sort(arr):\n",
        "    for i in range(1, len(arr)):\n",
        "        \n",
        "        key = arr[i]\n",
        "        j = i - 1\n",
        "\n",
        "        while j >= 0 and arr[j] > key:\n",
        "            arr[j+1] = arr[j]\n",
        "            j -= 1\n",
        "        arr[j + 1] = key\n",
        "\n",
        "def bucket_sort(x):\n",
        "    arr = []\n",
        "    slot_num = 10\n",
        "\n",
        "    for i in range(slot_num):\n",
        "        arr.append([])\n",
        "    \n",
        "    for j in x:\n",
        "        index_b = int(slot_num * j)\n",
        "        arr[index_b].append(j)\n",
        "\n",
        "    for i in range(slot_num):\n",
        "         insertion_sort(arr[i])\n",
        "\n",
        "    k = 0\n",
        "    for i in range(slot_num):\n",
        "        for j in range(len(arr[i])):\n",
        "            x[k] = arr[i][j]\n",
        "            k+=1\n",
        "    \n",
        "    return x"
      ],
      "execution_count": 4,
      "outputs": []
    },
    {
      "cell_type": "code",
      "metadata": {
        "colab": {
          "base_uri": "https://localhost:8080/"
        },
        "id": "x8jQRPKOnVrx",
        "outputId": "b28fe9b0-ce7f-4b66-e1da-ed4b482afed6"
      },
      "source": [
        "arr = list(range(1,20))\n",
        "arr = [i/100 for i in arr]\n",
        "random.shuffle(arr)\n",
        "print('Before:', arr)\n",
        "arr = bucket_sort(arr)\n",
        "print('After:', arr)"
      ],
      "execution_count": 5,
      "outputs": [
        {
          "output_type": "stream",
          "name": "stdout",
          "text": [
            "Before: [0.1, 0.03, 0.13, 0.14, 0.08, 0.18, 0.11, 0.05, 0.19, 0.17, 0.16, 0.06, 0.12, 0.15, 0.07, 0.01, 0.02, 0.09, 0.04]\n",
            "After: [0.01, 0.02, 0.03, 0.04, 0.05, 0.06, 0.07, 0.08, 0.09, 0.1, 0.11, 0.12, 0.13, 0.14, 0.15, 0.16, 0.17, 0.18, 0.19]\n"
          ]
        }
      ]
    },
    {
      "cell_type": "code",
      "metadata": {
        "id": "isWP2nm2oWf9"
      },
      "source": [
        ""
      ],
      "execution_count": 5,
      "outputs": []
    }
  ]
}